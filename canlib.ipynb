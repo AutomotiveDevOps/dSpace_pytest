{
 "cells": [
  {
   "cell_type": "code",
   "execution_count": 3,
   "metadata": {},
   "outputs": [
    {
     "name": "stdout",
     "output_type": "stream",
     "text": [
      "canlib version: 8.22\n"
     ]
    }
   ],
   "source": [
    "from canlib import canlib, Frame\n",
    "from canlib.canlib import ChannelData\n",
    "\n",
    "\n",
    "def setUpChannel(channel=0,\n",
    "                 openFlags=canlib.canOPEN_ACCEPT_VIRTUAL,\n",
    "                 bitrate=canlib.canBITRATE_250K,\n",
    "                 bitrateFlags=canlib.canDRIVER_NORMAL):\n",
    "    ch = canlib.openChannel(channel, openFlags)\n",
    "    print(\"Using channel: %s, EAN: %s\" % (ChannelData(channel).device_name,\n",
    "                                          ChannelData(channel).card_upc_no)\n",
    "                                              )\n",
    "    ch.setBusOutputControl(bitrateFlags)\n",
    "    ch.setBusParams(bitrate)\n",
    "    ch.busOn()\n",
    "    return ch\n",
    "\n",
    "\n",
    "def tearDownChannel(ch):\n",
    "    ch.busOff()\n",
    "    ch.close()\n",
    "\n",
    "print(\"canlib version:\", canlib.dllversion())"
   ]
  },
  {
   "cell_type": "code",
   "execution_count": 4,
   "metadata": {},
   "outputs": [
    {
     "name": "stdout",
     "output_type": "stream",
     "text": [
      "Using channel: Kvaser Leaf Light HS (channel 0), EAN: 73-30130-00241-8\n"
     ]
    }
   ],
   "source": [
    "ch0 = setUpChannel(channel=0)"
   ]
  },
  {
   "cell_type": "code",
   "execution_count": 11,
   "metadata": {},
   "outputs": [],
   "source": [
    "tearDownChannel(ch0)"
   ]
  },
  {
   "cell_type": "code",
   "execution_count": 18,
   "metadata": {},
   "outputs": [],
   "source": [
    "import serial\n",
    "\n",
    "ser = serial.Serial(port=\"COM4\", baudrate=115200)  # open serial port"
   ]
  },
  {
   "cell_type": "code",
   "execution_count": 24,
   "metadata": {},
   "outputs": [
    {
     "data": {
      "text/plain": [
       "b''"
      ]
     },
     "execution_count": 24,
     "metadata": {},
     "output_type": "execute_result"
    }
   ],
   "source": [
    "ser.flushInput()\n",
    "ser.flushOutput()\n",
    "ser.read_all()"
   ]
  },
  {
   "cell_type": "code",
   "execution_count": 21,
   "metadata": {},
   "outputs": [],
   "source": [
    "ser.close()"
   ]
  },
  {
   "cell_type": "code",
   "execution_count": 26,
   "metadata": {},
   "outputs": [
    {
     "data": {
      "text/plain": [
       "b'Message Sent Successfully!\\r\\nMessage Sent Successfully!\\r\\nMessage Sent Successfully!\\r\\nMessage Sent Successfully!\\r\\nMessage Sent Successfully!\\r\\nMessage Sent Successfully!\\r\\nMessage Sent Successfully!\\r\\nMessage Sent Successfully!\\r\\nMessage Sent Successfully!\\r\\nMessage Sent Successfully!\\r\\nMessage Sent Successfully!\\r\\nMessage Sent Successfully!\\r\\nMessage Sent Successfully!\\r\\nMessage Sent Successfully!\\r\\nMessage Sent Successfully!\\r\\nMessage Sent Successfully!\\r\\nMessage Sent Successfully!\\r\\nMessage Sent Successfully!\\r\\nMessage Sent Successfully!\\r\\nMessage Sent Successfully!\\r\\nMessage Sent Successfully!\\r\\nMessage Sent Successfully!\\r\\nMessage Sent Successfully!\\r\\nMessage Sent Successfully!\\r\\nMessage Sent Successfully!\\r\\nMessage Sent Successfully!\\r\\nMessage Sent Successfully!\\r\\nMessage Sent Successfully!\\r\\nMessage Sent Successfully!\\r\\nMessage Sent Successfully!\\r\\nMessage Sent Successfully!\\r\\nMessage Sent Successfully!\\r\\nMessage Sent Successfully!\\r\\nMessage Sent Successfully!\\r\\nMessage Sent Successfully!\\r\\nMessage Sent Successfully!\\r\\nMessage Sent Successfully!\\r\\nMessage Sent Successfully!\\r\\nMessage Sent Successfully!\\r\\nMessage Sent Successfully!\\r\\nMessage Sent Successfully!\\r\\nMessage Sent Successfully!\\r\\nMessage Sent Successfully!\\r\\n'"
      ]
     },
     "execution_count": 26,
     "metadata": {},
     "output_type": "execute_result"
    }
   ],
   "source": [
    "ser.read_all()"
   ]
  },
  {
   "cell_type": "code",
   "execution_count": 27,
   "metadata": {},
   "outputs": [],
   "source": [
    "?ser.read_until"
   ]
  },
  {
   "cell_type": "code",
   "execution_count": null,
   "metadata": {},
   "outputs": [],
   "source": []
  }
 ],
 "metadata": {
  "kernelspec": {
   "display_name": "Python 3",
   "language": "python",
   "name": "python3"
  },
  "language_info": {
   "codemirror_mode": {
    "name": "ipython",
    "version": 3
   },
   "file_extension": ".py",
   "mimetype": "text/x-python",
   "name": "python",
   "nbconvert_exporter": "python",
   "pygments_lexer": "ipython3",
   "version": "3.6.3"
  }
 },
 "nbformat": 4,
 "nbformat_minor": 2
}
